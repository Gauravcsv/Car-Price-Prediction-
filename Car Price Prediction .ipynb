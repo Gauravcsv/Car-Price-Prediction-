{
 "cells": [
  {
   "cell_type": "code",
   "execution_count": null,
   "id": "3140156b",
   "metadata": {},
   "outputs": [],
   "source": [
    "import pandas as pd\n",
    "import numpy as np\n",
    "import seaborn as sns\n",
    "import matplotlib.pyplot as plt\n",
    "from sklearn.preprocessing import OrdinalEncoder\n",
    "from scipy.stats import zscore\n",
    "from sklearn.model_selection import GridSearchCV\n",
    "from sklearn.model_selection import train_test_split, cross_val_score\n",
    "from sklearn.metrics import r2_score,mean_squared_error,mean_absolute_error\n",
    "\n",
    "from sklearn.linear_model import LinearRegression\n",
    "from sklearn.tree import DecisionTreeRegressor\n",
    "from sklearn.ensemble import RandomForestRegressor\n",
    "from sklearn.ensemble import GradientBoostingRegressor\n",
    "\n",
    "import warnings\n",
    "warnings.filterwarnings('ignore')"
   ]
  },
  {
   "cell_type": "code",
   "execution_count": null,
   "id": "8acd7b0c",
   "metadata": {},
   "outputs": [],
   "source": [
    "data=pd.read_csv(\"C:\\Users\\Gaurav Panwar\\Downloads\\Used_Cars_Data.csv\")\n",
    "data.head()"
   ]
  },
  {
   "cell_type": "code",
   "execution_count": null,
   "id": "566aa8c6",
   "metadata": {},
   "outputs": [],
   "source": [
    "data.shape"
   ]
  },
  {
   "cell_type": "code",
   "execution_count": null,
   "id": "ba8fabc6",
   "metadata": {},
   "outputs": [],
   "source": [
    "data.isnull().sum()"
   ]
  },
  {
   "cell_type": "code",
   "execution_count": null,
   "id": "49792025",
   "metadata": {},
   "outputs": [],
   "source": [
    "data.dtypes"
   ]
  },
  {
   "cell_type": "markdown",
   "id": "64cf52dc",
   "metadata": {},
   "source": [
    "Data Cleaning"
   ]
  },
  {
   "cell_type": "code",
   "execution_count": null,
   "id": "0fce29ab",
   "metadata": {},
   "outputs": [],
   "source": [
    "data['Number of Owner'].value_counts()"
   ]
  },
  {
   "cell_type": "code",
   "execution_count": null,
   "id": "30554039",
   "metadata": {},
   "outputs": [],
   "source": [
    "data['Number of Owner']=data['Number of Owner'].replace('4th','4')"
   ]
  },
  {
   "cell_type": "code",
   "execution_count": null,
   "id": "87795d82",
   "metadata": {},
   "outputs": [],
   "source": [
    "data['Number of Owner']=data['Number of Owner'].astype(float)"
   ]
  },
  {
   "cell_type": "code",
   "execution_count": null,
   "id": "a6c8f1c1",
   "metadata": {},
   "outputs": [],
   "source": [
    "data['Number of Owner'].value_counts()"
   ]
  },
  {
   "cell_type": "code",
   "execution_count": null,
   "id": "869d2100",
   "metadata": {},
   "outputs": [],
   "source": [
    "data.info()"
   ]
  },
  {
   "cell_type": "markdown",
   "id": "dd62b01f",
   "metadata": {},
   "source": [
    "Data Visalisation\n",
    "                             Visualisation of categorical data\n",
    "\n",
    "Number of Owner is flaot type but it is discrete value Manufacturing_Year is integer type but we can't consider as continuous data\n",
    "\n",
    "so we consider both the columns as a nominal data"
   ]
  },
  {
   "cell_type": "code",
   "execution_count": null,
   "id": "7287179e",
   "metadata": {},
   "outputs": [],
   "source": [
    "data_visualization_nominal=data[['Brand','Model','Variant','Manufacturing_Year','Fuel','Location','Number of Owner']].copy()\n",
    "\n",
    "data_visualization_nominal.columns"
   ]
  },
  {
   "cell_type": "code",
   "execution_count": null,
   "id": "b816e8e5",
   "metadata": {},
   "outputs": [],
   "source": [
    "plt.figure(figsize=(20,35))\n",
    "num =1\n",
    "\n",
    "for column in data_visualization_nominal:\n",
    "    if num <=7:\n",
    "        ax = plt.subplot(7,1,num)\n",
    "        sns.countplot(x=column,data=data_visualization_nominal)\n",
    "        plt.xlabel(column,fontsize=10)\n",
    "        \n",
    "    num+=1\n",
    "plt.show()  "
   ]
  },
  {
   "cell_type": "code",
   "execution_count": null,
   "id": "80a511aa",
   "metadata": {},
   "outputs": [],
   "source": [
    "data_visualisation_continuous=data[['Driven_Kilometer','Price']].copy()\n",
    "\n",
    "data_visualisation_continuous.columns"
   ]
  },
  {
   "cell_type": "code",
   "execution_count": null,
   "id": "c8a83079",
   "metadata": {},
   "outputs": [],
   "source": [
    "plt.figure(figsize=(16,4))\n",
    "num =1\n",
    "\n",
    "for column in data_visualisation_continuous:\n",
    "    if num <=2:\n",
    "        ax = plt.subplot(1,2,num)\n",
    "        sns.distplot(data_visualisation_continuous[column])\n",
    "        plt.xlabel(column,fontsize=20)\n",
    "        \n",
    "    num+=1\n",
    "plt.show()   "
   ]
  },
  {
   "cell_type": "code",
   "execution_count": null,
   "id": "9a768e9e",
   "metadata": {},
   "outputs": [],
   "source": [
    "enc=OrdinalEncoder()\n",
    "\n",
    "for i in data.columns:\n",
    "    if data[i].dtypes==\"object\":\n",
    "        data[i]=enc.fit_transform(data[i].values.reshape(-1,1))"
   ]
  },
  {
   "cell_type": "code",
   "execution_count": null,
   "id": "b836ce92",
   "metadata": {},
   "outputs": [],
   "source": [
    "data.head()"
   ]
  },
  {
   "cell_type": "markdown",
   "id": "96c57644",
   "metadata": {},
   "source": [
    "Data Analysis"
   ]
  },
  {
   "cell_type": "code",
   "execution_count": null,
   "id": "ccc19bf4",
   "metadata": {},
   "outputs": [],
   "source": [
    "data.describe()"
   ]
  },
  {
   "cell_type": "code",
   "execution_count": null,
   "id": "0c4357d1",
   "metadata": {},
   "outputs": [],
   "source": [
    "plt.figure(figsize=(15,10))\n",
    "sns.heatmap(data.describe().transpose(),linewidth=2,annot=True,fmt='f')\n",
    "plt.xticks(fontsize=18)\n",
    "plt.yticks(fontsize=12)\n",
    "plt.title(\"Describe the whole dataset\")\n",
    "plt.show()"
   ]
  },
  {
   "cell_type": "code",
   "execution_count": null,
   "id": "3102c57a",
   "metadata": {},
   "outputs": [],
   "source": [
    "data.corr()"
   ]
  },
  {
   "cell_type": "code",
   "execution_count": null,
   "id": "e64a0090",
   "metadata": {},
   "outputs": [],
   "source": [
    "plt.figure(figsize=(15,15))\n",
    "sns.heatmap(data.corr(),annot=True,linewidth=0.5,linecolor='black',fmt='f')"
   ]
  },
  {
   "cell_type": "code",
   "execution_count": null,
   "id": "d5ee9c80",
   "metadata": {},
   "outputs": [],
   "source": [
    "plt.figure(figsize=(10,5))\n",
    "data.corr()['Price'].sort_values(ascending=False).drop(['Price']).plot(kind='bar')\n",
    "plt.xlabel('Feature variable',fontsize=18)\n",
    "plt.ylabel('Target variable',fontsize=18)\n",
    "plt.title('Correlation',fontsize=20)\n",
    "plt.show()"
   ]
  },
  {
   "cell_type": "code",
   "execution_count": null,
   "id": "07522545",
   "metadata": {},
   "outputs": [],
   "source": [
    "lt.figure(figsize=(20,6))\n",
    "number = 1\n",
    "\n",
    "for column in data:\n",
    "    if number <=9:\n",
    "        plt.subplot(1,9,number)\n",
    "        ax = sns.boxplot(data=data[column])\n",
    "        plt.xlabel(column,fontsize=10)\n",
    "       \n",
    "    number+=1\n",
    "plt.show()    "
   ]
  },
  {
   "cell_type": "code",
   "execution_count": null,
   "id": "110da30e",
   "metadata": {},
   "outputs": [],
   "source": [
    "data.skew()"
   ]
  },
  {
   "cell_type": "code",
   "execution_count": null,
   "id": "a6739d99",
   "metadata": {},
   "outputs": [],
   "source": [
    "x = data.drop(['Price'],axis=1)\n",
    "y = data['Price']\n",
    "\n",
    "z=np.abs(zscore(x))\n",
    "threshold=3\n",
    "print(np.where(z>3))"
   ]
  },
  {
   "cell_type": "code",
   "execution_count": null,
   "id": "7fab674b",
   "metadata": {},
   "outputs": [],
   "source": [
    "data[\"Driven_Kilometer\"]=np.sqrt(data[\"Driven_Kilometer\"])"
   ]
  },
  {
   "cell_type": "code",
   "execution_count": null,
   "id": "c20ae756",
   "metadata": {},
   "outputs": [],
   "source": [
    "data.skew()"
   ]
  },
  {
   "cell_type": "code",
   "execution_count": null,
   "id": "abacfd4d",
   "metadata": {},
   "outputs": [],
   "source": [
    "data.head()"
   ]
  },
  {
   "cell_type": "markdown",
   "id": "d2bc9249",
   "metadata": {},
   "source": [
    "Model Fitting"
   ]
  },
  {
   "cell_type": "code",
   "execution_count": null,
   "id": "b7c40a5b",
   "metadata": {},
   "outputs": [],
   "source": [
    "x=data.drop(['Price'],axis=1)\n",
    "y=data['Price']"
   ]
  },
  {
   "cell_type": "code",
   "execution_count": null,
   "id": "ce0df987",
   "metadata": {},
   "outputs": [],
   "source": [
    "lr=LinearRegression()"
   ]
  },
  {
   "cell_type": "code",
   "execution_count": null,
   "id": "5a78eac1",
   "metadata": {},
   "outputs": [],
   "source": [
    "for i in range(0,100):\n",
    "    x_train,x_test,y_train,y_test = train_test_split(x,y,test_size =0.20,random_state = i)\n",
    "    lr.fit(x_train,y_train)\n",
    "    pred_train=lr.predict(x_train)\n",
    "    pred_test=lr.predict(x_test)\n",
    "    print(\"The model perform very well\")\n",
    "    print(\"random state\",i)\n",
    "    print(\"Training accuracy score:\",r2_score(y_train,pred_train)*100)\n",
    "    print(\"Testing accuracy score:\",r2_score(y_test,pred_test)*100)\n",
    "    print('\\n')"
   ]
  },
  {
   "cell_type": "code",
   "execution_count": null,
   "id": "43402ddc",
   "metadata": {},
   "outputs": [],
   "source": [
    "x_train,x_test,y_train,y_test = train_test_split(x,y,test_size = 0.20,random_state = 42)"
   ]
  },
  {
   "cell_type": "code",
   "execution_count": null,
   "id": "f0c31c47",
   "metadata": {},
   "outputs": [],
   "source": [
    "pred_test=lr.predict(x_test)\n",
    "accuracy=r2_score(y_test,pred_test)*100\n",
    "print(\"R square score for testing\",accuracy)"
   ]
  },
  {
   "cell_type": "code",
   "execution_count": null,
   "id": "a1c3dd2c",
   "metadata": {},
   "outputs": [],
   "source": [
    "for j in range(2,10):\n",
    "    cv_score=cross_val_score(lr,x,y,cv=j)\n",
    "    cv_mean=cv_score.mean()\n",
    "    print(f\"At cross fold {j} the cv score is {cv_mean}\")\n",
    "    print(\"\\n\")"
   ]
  },
  {
   "cell_type": "code",
   "execution_count": null,
   "id": "43b99fb5",
   "metadata": {},
   "outputs": [],
   "source": [
    "lrscore=cross_val_score(lr,x,y,cv=5)\n",
    "lrc=lrscore.mean()\n",
    "print('cross val score:',lrc*100)"
   ]
  },
  {
   "cell_type": "code",
   "execution_count": null,
   "id": "82c5b461",
   "metadata": {},
   "outputs": [],
   "source": [
    "mae=mean_absolute_error(y_test,pred_test)\n",
    "mse=mean_squared_error(y_test,pred_test)\n",
    "rmse=np.sqrt(mean_squared_error(y_test,pred_test))\n",
    "\n",
    "print(\"Mean absolute error:\",mae)\n",
    "print(\"Mean square error:\",mse)\n",
    "print(\"Root mean square error:\",rmse)"
   ]
  },
  {
   "cell_type": "code",
   "execution_count": null,
   "id": "e861dee0",
   "metadata": {},
   "outputs": [],
   "source": [
    "plt.figure(figsize=(6,4))\n",
    "plt.scatter(y_test,pred_test,color='red')\n",
    "plt.plot(y_test,y_test,color='blue')\n",
    "plt.xlabel('Actual values')\n",
    "plt.ylabel('Predicted values')\n",
    "plt.title('Linear Regressor')                                                                                \n",
    "plt.show()"
   ]
  },
  {
   "cell_type": "code",
   "execution_count": null,
   "id": "807d3039",
   "metadata": {},
   "outputs": [],
   "source": [
    "dtr=DecisionTreeRegressor()"
   ]
  },
  {
   "cell_type": "code",
   "execution_count": null,
   "id": "c2eeb85d",
   "metadata": {},
   "outputs": [],
   "source": [
    "for i in range(0,100):\n",
    "    x_train,x_test,y_train,y_test = train_test_split(x,y,test_size = 0.20,random_state = i)\n",
    "    dtr.fit(x_train,y_train)\n",
    "    pred_train=dtr.predict(x_train)\n",
    "    pred_test=dtr.predict(x_test)\n",
    "    print(\"random state\",i)\n",
    "    print(\"Training accuracy score:\",r2_score(y_train,pred_train)*100)\n",
    "    print(\"Testing accuracy score:\",r2_score(y_test,pred_test)*100)\n",
    "    print('\\n')"
   ]
  },
  {
   "cell_type": "code",
   "execution_count": null,
   "id": "68152a62",
   "metadata": {},
   "outputs": [],
   "source": [
    "x_train,x_test,y_train,y_test = train_test_split(x,y,test_size = 0.20,random_state =38)"
   ]
  },
  {
   "cell_type": "code",
   "execution_count": null,
   "id": "d72935ba",
   "metadata": {},
   "outputs": [],
   "source": [
    "pred_test=dtr.predict(x_test)\n",
    "dtrs=r2_score(y_test,pred_test)\n",
    "print(\"R2 score:\",dtrs*100)"
   ]
  },
  {
   "cell_type": "code",
   "execution_count": null,
   "id": "89205d01",
   "metadata": {},
   "outputs": [],
   "source": [
    "for j in range(2,10):\n",
    "    cv_score=cross_val_score(dtr,x,y,cv=j)\n",
    "    cv_mean=cv_score.mean()\n",
    "    print(f\"At cross fold {j} the cv score is {cv_mean}\")\n",
    "    print(\"\\n\")"
   ]
  },
  {
   "cell_type": "code",
   "execution_count": null,
   "id": "5092ef9c",
   "metadata": {},
   "outputs": [],
   "source": [
    "dtrscore=cross_val_score(dtr,x,y,cv=7)\n",
    "dtrc=dtrscore.mean()\n",
    "print('cross val score:',dtrc*100)"
   ]
  },
  {
   "cell_type": "code",
   "execution_count": null,
   "id": "58009196",
   "metadata": {},
   "outputs": [],
   "source": [
    "mae=mean_absolute_error(y_test,pred_test)\n",
    "mse=mean_squared_error(y_test,pred_test)\n",
    "rmse=np.sqrt(mean_squared_error(y_test,pred_test))\n",
    "\n",
    "print(\"Mean absolute error:\",mae)\n",
    "print(\"Mean square error:\",mse)\n",
    "print(\"Root mean square error:\",rmse)"
   ]
  },
  {
   "cell_type": "code",
   "execution_count": null,
   "id": "46e1120b",
   "metadata": {},
   "outputs": [],
   "source": [
    "plt.figure(figsize=(7,4))\n",
    "plt.scatter(y_test,pred_test,color='red')\n",
    "plt.plot(y_test,y_test,color='blue')\n",
    "plt.xlabel('Actual values')\n",
    "plt.ylabel('Predicted values')\n",
    "plt.title('Decision Tree Regressor')                                                                                \n",
    "plt.show()"
   ]
  },
  {
   "cell_type": "code",
   "execution_count": null,
   "id": "b7d74d8a",
   "metadata": {},
   "outputs": [],
   "source": [
    "rfr=RandomForestRegressor()"
   ]
  },
  {
   "cell_type": "code",
   "execution_count": null,
   "id": "21f1f57f",
   "metadata": {},
   "outputs": [],
   "source": [
    "for i in range(0,100):\n",
    "    x_train,x_test,y_train,y_test = train_test_split(x,y,test_size = 0.20,random_state = i)\n",
    "    rfr.fit(x_train,y_train)\n",
    "    pred_train=rfr.predict(x_train)\n",
    "    pred_test=rfr.predict(x_test)\n",
    "    print(\"random state\",i)\n",
    "    print(\"Training accuracy score:\",r2_score(y_train,pred_train)*100)\n",
    "    print(\"Testing accuracy score:\",r2_score(y_test,pred_test)*100)\n",
    "    print('\\n')"
   ]
  },
  {
   "cell_type": "code",
   "execution_count": null,
   "id": "e062a31d",
   "metadata": {},
   "outputs": [],
   "source": [
    "x_train,x_test,y_train,y_test = train_test_split(x,y,test_size = 0.20,random_state =12"
   ]
  },
  {
   "cell_type": "code",
   "execution_count": null,
   "id": "e8937f47",
   "metadata": {},
   "outputs": [],
   "source": [
    "preds_test=rfr.predict(x_test)\n",
    "rfrs=r2_score(y_test,preds_test)\n",
    "print(\"R2 score for testing:\",rfrs*100)"
   ]
  },
  {
   "cell_type": "code",
   "execution_count": null,
   "id": "fe01db28",
   "metadata": {},
   "outputs": [],
   "source": [
    "for j in range(2,10):\n",
    "    cv_score=cross_val_score(rfr,x,y,cv=j)\n",
    "    cv_mean=cv_score.mean()\n",
    "    print(f\"At cross fold {j} the cv score is {cv_mean}\")\n",
    "    print(\"\\n\")"
   ]
  },
  {
   "cell_type": "code",
   "execution_count": null,
   "id": "89dfcab9",
   "metadata": {},
   "outputs": [],
   "source": [
    "rfrscore=cross_val_score(rfr,x,y,cv=9)\n",
    "rfrc=rfrscore.mean()\n",
    "print('cross val score:',rfrc*100)"
   ]
  },
  {
   "cell_type": "code",
   "execution_count": null,
   "id": "253a6d9e",
   "metadata": {},
   "outputs": [],
   "source": [
    "mae=mean_absolute_error(y_test,preds_test)\n",
    "mse=mean_squared_error(y_test,preds_test)\n",
    "rmse=np.sqrt(mean_squared_error(y_test,preds_test))\n",
    "\n",
    "print(\"Mean absolute error:\",mae)\n",
    "print(\"Mean square error:\",mse)\n",
    "print(\"Root mean square error:\",rmse)"
   ]
  },
  {
   "cell_type": "code",
   "execution_count": null,
   "id": "384becbf",
   "metadata": {},
   "outputs": [],
   "source": [
    "plt.figure(figsize=(8,5))\n",
    "plt.scatter(y_test,preds_test,color='red')\n",
    "plt.plot(y_test,y_test,color='blue')\n",
    "plt.xlabel('Actual values')\n",
    "plt.ylabel('Predicted values')\n",
    "plt.title('Random Forest Regressor')                                                                                \n",
    "plt.show()"
   ]
  },
  {
   "cell_type": "code",
   "execution_count": null,
   "id": "27b44349",
   "metadata": {},
   "outputs": [],
   "source": [
    "gb= GradientBoostingRegressor()"
   ]
  },
  {
   "cell_type": "code",
   "execution_count": null,
   "id": "8c5b36a9",
   "metadata": {},
   "outputs": [],
   "source": [
    "for i in range(0,100):\n",
    "    x_train,x_test,y_train,y_test = train_test_split(x,y,test_size = 0.20,random_state = i)\n",
    "    gb.fit(x_train,y_train)\n",
    "    pred_train=gb.predict(x_train)\n",
    "    pred_test=gb.predict(x_test)\n",
    "    print(\"random state\",i)\n",
    "    print(\"Training accuracy score:\",r2_score(y_train,pred_train)*100)\n",
    "    print(\"Testing accuracy score:\",r2_score(y_test,pred_test)*100)\n",
    "    print('\\n')"
   ]
  },
  {
   "cell_type": "code",
   "execution_count": null,
   "id": "08da116b",
   "metadata": {},
   "outputs": [],
   "source": [
    "x_train,x_test,y_train,y_test = train_test_split(x,y,test_size = 0.20,random_state = 5)"
   ]
  },
  {
   "cell_type": "code",
   "execution_count": null,
   "id": "fff8c1b2",
   "metadata": {},
   "outputs": [],
   "source": [
    "pred_test=gb.predict(x_test)\n",
    "accuracy=r2_score(y_test,pred_test)*100\n",
    "print(\"R square score\",accuracy)"
   ]
  },
  {
   "cell_type": "code",
   "execution_count": null,
   "id": "1778a2a9",
   "metadata": {},
   "outputs": [],
   "source": [
    "for j in range(2,10):\n",
    "    cv_score=cross_val_score(gb,x,y,cv=j)\n",
    "    cv_mean=cv_score.mean()\n",
    "    print(f\"At cross fold {j} the cv score is {cv_mean}\")\n",
    "    print(\"\\n\")"
   ]
  },
  {
   "cell_type": "code",
   "execution_count": null,
   "id": "31c3b2c0",
   "metadata": {},
   "outputs": [],
   "source": [
    "gbscore=cross_val_score(gb,x,y,cv=8)\n",
    "gbc=gbscore.mean()\n",
    "print('cross val score:',gbc*100)"
   ]
  },
  {
   "cell_type": "code",
   "execution_count": null,
   "id": "d15cc0f2",
   "metadata": {},
   "outputs": [],
   "source": [
    "mae=mean_absolute_error(y_test,pred_test)\n",
    "mse=mean_squared_error(y_test,pred_test)\n",
    "rmse=np.sqrt(mean_squared_error(y_test,pred_test))\n",
    "\n",
    "print(\"Mean absolute error:\",mae)\n",
    "print(\"Mean square error:\",mse)\n",
    "print(\"Root mean square error:\",rmse)"
   ]
  },
  {
   "cell_type": "code",
   "execution_count": null,
   "id": "939304de",
   "metadata": {},
   "outputs": [],
   "source": [
    "plt.figure(figsize=(7,4))\n",
    "plt.scatter(y_test,pred_test,color='red')\n",
    "plt.plot(y_test,y_test,color='blue')\n",
    "plt.xlabel('Actual values')\n",
    "plt.ylabel('Predicted values')\n",
    "plt.title('Gradient Boosting Regressor')                                                                                \n",
    "plt.show()"
   ]
  },
  {
   "cell_type": "markdown",
   "id": "da76373a",
   "metadata": {},
   "source": [
    "Random Forest Regression"
   ]
  },
  {
   "cell_type": "code",
   "execution_count": null,
   "id": "a0ea44f5",
   "metadata": {},
   "outputs": [],
   "source": [
    "Prediction=pd.DataFrame({\"Actual_value\":y_test,\"Predicted_value\":preds_test})\n",
    "Prediction"
   ]
  }
 ],
 "metadata": {
  "kernelspec": {
   "display_name": "Python 3 (ipykernel)",
   "language": "python",
   "name": "python3"
  },
  "language_info": {
   "codemirror_mode": {
    "name": "ipython",
    "version": 3
   },
   "file_extension": ".py",
   "mimetype": "text/x-python",
   "name": "python",
   "nbconvert_exporter": "python",
   "pygments_lexer": "ipython3",
   "version": "3.9.12"
  }
 },
 "nbformat": 4,
 "nbformat_minor": 5
}
